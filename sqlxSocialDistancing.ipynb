{
 "cells": [
  {
   "cell_type": "markdown",
   "metadata": {},
   "source": [
    "# Ground Motion Displacement RMS vs Time\n",
    "\n",
    "*an example simple tutorial for getting seismic data, computing the power spectral densities, extracting the RMS and plotting*\n",
    "\n",
    "Required:\n",
    "\n",
    "- python\n",
    "- obspy (and its dependencies)\n",
    "- pandas\n",
    "- jupyter\n",
    "- notebook\n",
    "\n",
    "this should be easy to set up in a conda env: ``conda create -n covid python=3.7 obspy pandas jupyter notebook``\n",
    "\n",
    "Author: Thomas Lecocq @seismotom, Fred Massin @fmassin"
   ]
  },
  {
   "cell_type": "markdown",
   "metadata": {},
   "source": [
    "## Step 1: imports"
   ]
  },
  {
   "cell_type": "code",
   "execution_count": null,
   "metadata": {},
   "outputs": [],
   "source": [
    "import imp\n",
    "import seismosocialdistancing\n",
    "import datetime\n",
    "import matplotlib.pyplot as plt\n",
    "import matplotlib.ticker as ticker\n",
    "import matplotlib.patheffects as pe\n",
    "import numpy as np\n",
    "import pandas as pd\n",
    "from obspy import UTCDateTime\n"
   ]
  },
  {
   "cell_type": "markdown",
   "metadata": {},
   "source": [
    "## Step 2: Define Start/End dates and Seismic Channel\n",
    "\n",
    "You'll have to make sure the seed_id you request is indeed available from the ``data_provider``"
   ]
  },
  {
   "cell_type": "code",
   "execution_count": null,
   "metadata": {},
   "outputs": [],
   "source": [
    "start = UTCDateTime(\"2020-03-01\")\n",
    "end = UTCDateTime() # () means \"now\"\n",
    "\n",
    "network = \"CH\"\n",
    "station = \"SLOP\"#,SZUZ,SGEV,SBERN,SUSI\"#,SEPFL,SBAM2\" # Urban stations\n",
    "location = \"\"\n",
    "channel = \"HGZ,HGE,HGN\"\n",
    "dataset = 'seismoRMSdata/urban-'\n",
    "\n",
    "data_provider = \"ETH\"\n",
    "logo = 'https://upload.wikimedia.org/wikipedia/commons/thumb/4/44/Logo_SED_2014.png/220px-Logo_SED_2014.png'\n",
    "bans = {\"2020-03-13\":'Groups >100 banned', \n",
    "        \"2020-03-20\":'Groups >5 banned'}\n"
   ]
  },
  {
   "cell_type": "markdown",
   "metadata": {},
   "source": [
    "## Step 2: Process PSDs to extract the RMS(displacement)\n",
    "\n",
    "This can be done for multiple filters at once (``freqs`` below):"
   ]
  },
  {
   "cell_type": "code",
   "execution_count": null,
   "metadata": {},
   "outputs": [],
   "source": [
    "myPSDs = seismosocialdistancing.PSDs() #reloadme=myPSDs)\n",
    "# Define frequency bands of interest:\n",
    "freqs = [(0.1,1.0),(1.0,20.0),(4.0,14.0),(4.0,20.0)]\n",
    "# 'user@hostname' import ssh-key before via `ssh-copy-id user@hostname`\n",
    "myPSDs.clientpqlx(sshuserhost='SQLX',\n",
    "                    freqs=freqs,\n",
    "                    network=network,\n",
    "                    station=station,\n",
    "                    location=location,\n",
    "                    channel=channel,\n",
    "                    start=start,\n",
    "                    end=end)\n",
    "\n",
   ]
  },
  {
   "cell_type": "markdown",
   "metadata": {},
   "source": [
    "## Step 3: Custom plot for a single frequency band:"
   ]
  },
  {
   "cell_type": "code",
   "execution_count": null,
   "metadata": {},
   "outputs": [],
   "source": [
    "o=myPSDs.plot(mode='*', \n",
    "              band = \"4.0-14.0\",\n",
    "              bans=bans, \n",
    "              logo=logo)"
   ]
  },
  {
   "cell_type": "code",
   "execution_count": null,
   "metadata": {},
   "outputs": [],
   "source": [
    "%autosave 1\n",
    "import time\n",
    "time.sleep(2)\n",
    "%autosave 120\n",
    "!jupyter nbconvert --to html sqlxSocialDistancing.ipynb\n",
    "!nbstripout sqlxSocialDistancing.ipynb"
   ]
  }
 ],
 "metadata": {
  "kernelspec": {
   "display_name": "Python [default]",
   "language": "python",
   "name": "python3"
  },
  "language_info": {
   "codemirror_mode": {
    "name": "ipython",
    "version": 3
   },
   "file_extension": ".py",
   "mimetype": "text/x-python",
   "name": "python",
   "nbconvert_exporter": "python",
   "pygments_lexer": "ipython3",
   "version": "3.5.5"
  }
 },
 "nbformat": 4,
 "nbformat_minor": 2
}
